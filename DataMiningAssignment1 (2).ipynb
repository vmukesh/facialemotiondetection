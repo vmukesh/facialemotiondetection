{
  "nbformat": 4,
  "nbformat_minor": 0,
  "metadata": {
    "colab": {
      "provenance": []
    },
    "kernelspec": {
      "name": "python3",
      "display_name": "Python 3"
    },
    "language_info": {
      "name": "python"
    },
    "accelerator": "GPU",
    "gpuClass": "standard"
  },
  "cells": [
    {
      "cell_type": "markdown",
      "source": [
        "# Access DataSet from Google Drive"
      ],
      "metadata": {
        "id": "TShLq_aNOd8r"
      }
    },
    {
      "cell_type": "code",
      "execution_count": null,
      "metadata": {
        "colab": {
          "base_uri": "https://localhost:8080/"
        },
        "id": "I6whXUux9slv",
        "outputId": "f5b17b1d-02d8-41f9-d46f-e8c8d9a7e078"
      },
      "outputs": [
        {
          "output_type": "stream",
          "name": "stdout",
          "text": [
            "Drive already mounted at /content/drive; to attempt to forcibly remount, call drive.mount(\"/content/drive\", force_remount=True).\n",
            "[Errno 2] No such file or directory: 'drive/MyDrive/facial-emotion-expressions/images/images/'\n",
            "/content/drive/MyDrive\n"
          ]
        }
      ],
      "source": [
        "from google.colab import drive\n",
        "import os\n",
        "drive.mount('/content/drive')\n",
        "%cd 'drive/MyDrive'"
      ]
    },
    {
      "cell_type": "markdown",
      "source": [
        "# Import all necessary packages and Libraries"
      ],
      "metadata": {
        "id": "RpXyMm5bOrY6"
      }
    },
    {
      "cell_type": "code",
      "source": [
        "import cv2\n",
        "import matplotlib.pyplot as plt\n",
        "import tensorflow as tf \n",
        "import numpy as np\n",
        "import pandas as pd\n",
        "import matplotlib.pyplot as plt\n",
        "import seaborn as sns\n",
        "from tensorflow.keras import layers\n",
        "from tensorflow.keras.models import Sequential, Model\n",
        "from tensorflow.keras.layers import Conv2D, Flatten, MaxPooling2D, Dense, Input\n",
        "from tensorflow.keras.utils import Sequence\n"
      ],
      "metadata": {
        "id": "u0NctXH9AUWs"
      },
      "execution_count": null,
      "outputs": []
    },
    {
      "cell_type": "code",
      "source": [
        "import cv2\n",
        "import os\n",
        "def loaddata():\n",
        "   \n",
        "    label_names = ['angry',  'disgust',  'fear',  'happy'  ,'neutral', 'sad','surprise']\n",
        "    tpath=\"facial-emotion-expressions/images/images/train/\"\n",
        "    train_images=[]\n",
        "    train_labels=[]\n",
        "\n",
        "    for folder in os.listdir(tpath):\n",
        "        files=tpath+'/'+str(folder)\n",
        "        label = label_names.index(folder)\n",
        "        for file in os.listdir(files):\n",
        "            file = files+\"/\"+file\n",
        "            #read the image\n",
        "            image = cv2.imread(file)\n",
        "            image = cv2.cvtColor(image, cv2.COLOR_BGR2GRAY)\n",
        "            image = cv2.resize(image, (48,48))\n",
        "            image=image.reshape(48,48,)\n",
        "            # Append the image and its corresponding label to the output\n",
        "            train_images.append(image)\n",
        "            train_labels.append(label)\n",
        "\n",
        "    train_images = np.array(train_images)\n",
        "    train_labels = np.array(train_labels)\n",
        "    return train_images,train_labels"
      ],
      "metadata": {
        "id": "CA0VrFaJIxIm"
      },
      "execution_count": null,
      "outputs": []
    },
    {
      "cell_type": "code",
      "source": [
        "def loadvaldata():    \n",
        "    label_names = ['angry',  'disgust',  'fear',  'happy'  ,'neutral', 'sad','surprise']\n",
        "    vpath = \"facial-emotion-expressions/images/images/validation/\"\n",
        "    validation_images=[]\n",
        "    validation_labels=[]\n",
        "\n",
        "    for folder in os.listdir(vpath):\n",
        "        files=vpath+'/'+str(folder)\n",
        "        label = label_names.index(folder)\n",
        "        for file in os.listdir(files):\n",
        "            file = files+\"/\"+file\n",
        "            #read the image\n",
        "            image = cv2.imread(file)\n",
        "            image = cv2.cvtColor(image, cv2.COLOR_BGR2GRAY)\n",
        "            image = cv2.resize(image, (48,48))\n",
        "            image=image.reshape(48,48,)\n",
        "            # Append the image and its corresponding label to the output\n",
        "            validation_images.append(image)\n",
        "            validation_labels.append(label)\n",
        "    validation_images = np.array(validation_images)\n",
        "    validation_labels = np.array(validation_labels)\n",
        "    return validation_images,validation_labels"
      ],
      "metadata": {
        "id": "Q7xQHi9sze5V"
      },
      "execution_count": null,
      "outputs": []
    },
    {
      "cell_type": "code",
      "source": [
        "\n",
        "(train_images,train_labels)=loaddata()\n",
        "(validation_images,validation_labels)=loadvaldata()\n"
      ],
      "metadata": {
        "id": "ehiridMHJtTh"
      },
      "execution_count": null,
      "outputs": []
    },
    {
      "cell_type": "code",
      "source": [
        "unique, counts = np.unique(train_labels, return_counts=True)\n",
        "print(unique)\n",
        "print(counts)"
      ],
      "metadata": {
        "colab": {
          "base_uri": "https://localhost:8080/"
        },
        "id": "XqhjmR1DM5RG",
        "outputId": "6fec9d0e-cbea-4743-e5b6-378f90dd2099"
      },
      "execution_count": null,
      "outputs": [
        {
          "output_type": "stream",
          "name": "stdout",
          "text": [
            "[]\n",
            "[]\n"
          ]
        }
      ]
    },
    {
      "cell_type": "code",
      "source": [
        "import matplotlib.pyplot as plt\n",
        "from pathlib import Path\n",
        "\n",
        "\n",
        "plt.imshow(train_images[5000])\n",
        "plt.show()"
      ],
      "metadata": {
        "colab": {
          "base_uri": "https://localhost:8080/",
          "height": 217
        },
        "id": "sY3GhDBFVQ37",
        "outputId": "fdc2546b-939b-4f1b-d017-18af7d7aebd1"
      },
      "execution_count": null,
      "outputs": [
        {
          "output_type": "error",
          "ename": "IndexError",
          "evalue": "ignored",
          "traceback": [
            "\u001b[0;31m---------------------------------------------------------------------------\u001b[0m",
            "\u001b[0;31mIndexError\u001b[0m                                Traceback (most recent call last)",
            "\u001b[0;32m<ipython-input-24-3891fc4f7529>\u001b[0m in \u001b[0;36m<module>\u001b[0;34m\u001b[0m\n\u001b[1;32m      3\u001b[0m \u001b[0;34m\u001b[0m\u001b[0m\n\u001b[1;32m      4\u001b[0m \u001b[0;34m\u001b[0m\u001b[0m\n\u001b[0;32m----> 5\u001b[0;31m \u001b[0mplt\u001b[0m\u001b[0;34m.\u001b[0m\u001b[0mimshow\u001b[0m\u001b[0;34m(\u001b[0m\u001b[0mtrain_images\u001b[0m\u001b[0;34m[\u001b[0m\u001b[0;36m5000\u001b[0m\u001b[0;34m]\u001b[0m\u001b[0;34m)\u001b[0m\u001b[0;34m\u001b[0m\u001b[0;34m\u001b[0m\u001b[0m\n\u001b[0m\u001b[1;32m      6\u001b[0m \u001b[0mplt\u001b[0m\u001b[0;34m.\u001b[0m\u001b[0mshow\u001b[0m\u001b[0;34m(\u001b[0m\u001b[0;34m)\u001b[0m\u001b[0;34m\u001b[0m\u001b[0;34m\u001b[0m\u001b[0m\n",
            "\u001b[0;31mIndexError\u001b[0m: index 5000 is out of bounds for axis 0 with size 0"
          ]
        }
      ]
    },
    {
      "cell_type": "code",
      "source": [
        "import seaborn as sns\n",
        "label_names = ['angry',  'disgust',  'fear',  'happy'  ,'neutral', 'sad','surprise']\n",
        "unique, counts = np.unique(train_labels, return_counts=True)\n",
        "sns.barplot(x = label_names, y = counts )\n",
        "plt.title('No of Train Data avaliable for each class')"
      ],
      "metadata": {
        "colab": {
          "base_uri": "https://localhost:8080/",
          "height": 298
        },
        "id": "nuXQaj33NMS3",
        "outputId": "6780f8da-fee8-4ece-e3f8-363688be6440"
      },
      "execution_count": null,
      "outputs": [
        {
          "output_type": "execute_result",
          "data": {
            "text/plain": [
              "Text(0.5, 1.0, 'No of Train Data avaliable for each class')"
            ]
          },
          "metadata": {},
          "execution_count": 20
        },
        {
          "output_type": "display_data",
          "data": {
            "text/plain": [
              "<Figure size 432x288 with 1 Axes>"
            ],
            "image/png": "[encoded data removed]"
          },
          "metadata": {
            "needs_background": "light"
          }
        }
      ]
    },
    {
      "cell_type": "code",
      "source": [
        "unique, counts = np.unique(validation_labels, return_counts=True)\n",
        "sns.barplot(x = label_names, y = counts )\n",
        "plt.title('No of Validation Data avaliable for each class')"
      ],
      "metadata": {
        "colab": {
          "base_uri": "https://localhost:8080/",
          "height": 298
        },
        "id": "WMe98EMf-8IQ",
        "outputId": "03f05969-e650-44b2-ea13-57a24a8a725c"
      },
      "execution_count": null,
      "outputs": [
        {
          "output_type": "execute_result",
          "data": {
            "text/plain": [
              "Text(0.5, 1.0, 'No of Validation Data avaliable for each class')"
            ]
          },
          "metadata": {},
          "execution_count": 21
        },
        {
          "output_type": "display_data",
          "data": {
            "text/plain": [
              "<Figure size 432x288 with 1 Axes>"
            ],
            "image/png": "[encoded data removed]"
          },
          "metadata": {
            "needs_background": "light"
          }
        }
      ]
    },
    {
      "cell_type": "code",
      "source": [
        "\n",
        "img_input = layers.Input(shape=(48, 48, 1))\n",
        "\n",
        "x = layers.Conv2D(300, 3, activation='relu')(img_input)\n",
        "x = layers.Conv2D(100, 3, activation='relu')(x)\n",
        "x = layers.Conv2D(200, 3, activation='relu')(x)\n",
        "x = layers.MaxPooling2D(2)(x)\n",
        "\n",
        "x = layers.Conv2D(100, 3, activation='relu')(x)\n",
        "x = layers.MaxPooling2D(2)(x)\n",
        "\n",
        "x = layers.Conv2D(50, 3, activation='relu')(x)\n",
        "x = layers.Conv2D(50, 3, activation='relu')(x)\n",
        "x = layers.MaxPooling2D(2)(x)\n",
        "\n",
        "\n",
        "x = layers.Flatten()(x)\n",
        "output = layers.Dense(7, activation='softmax')(x)\n",
        "model = tf.keras.Model(inputs = [img_input], outputs = [output])\n",
        "model.summary()"
      ],
      "metadata": {
        "colab": {
          "base_uri": "https://localhost:8080/"
        },
        "id": "DXJIrYQgJt-i",
        "outputId": "cd5c6335-23ab-4eb1-dd26-86090d9b1a50"
      },
      "execution_count": null,
      "outputs": [
        {
          "output_type": "stream",
          "name": "stdout",
          "text": [
            "Model: \"model_1\"\n",
            "_________________________________________________________________\n",
            " Layer (type)                Output Shape              Param #   \n",
            "=================================================================\n",
            " input_2 (InputLayer)        [(None, 48, 48, 1)]       0         \n",
            "                                                                 \n",
            " conv2d_6 (Conv2D)           (None, 46, 46, 300)       3000      \n",
            "                                                                 \n",
            " conv2d_7 (Conv2D)           (None, 44, 44, 100)       270100    \n",
            "                                                                 \n",
            " conv2d_8 (Conv2D)           (None, 42, 42, 200)       180200    \n",
            "                                                                 \n",
            " max_pooling2d_3 (MaxPooling  (None, 21, 21, 200)      0         \n",
            " 2D)                                                             \n",
            "                                                                 \n",
            " conv2d_9 (Conv2D)           (None, 19, 19, 100)       180100    \n",
            "                                                                 \n",
            " max_pooling2d_4 (MaxPooling  (None, 9, 9, 100)        0         \n",
            " 2D)                                                             \n",
            "                                                                 \n",
            " conv2d_10 (Conv2D)          (None, 7, 7, 50)          45050     \n",
            "                                                                 \n",
            " conv2d_11 (Conv2D)          (None, 5, 5, 50)          22550     \n",
            "                                                                 \n",
            " max_pooling2d_5 (MaxPooling  (None, 2, 2, 50)         0         \n",
            " 2D)                                                             \n",
            "                                                                 \n",
            " flatten_1 (Flatten)         (None, 200)               0         \n",
            "                                                                 \n",
            " dense_1 (Dense)             (None, 7)                 1407      \n",
            "                                                                 \n",
            "=================================================================\n",
            "Total params: 702,407\n",
            "Trainable params: 702,407\n",
            "Non-trainable params: 0\n",
            "_________________________________________________________________\n"
          ]
        }
      ]
    },
    {
      "cell_type": "code",
      "source": [
        "from tensorflow.keras.optimizers import Adam\n",
        "\n",
        "model.compile(loss='sparse_categorical_crossentropy',\n",
        "              optimizer=Adam(0.001),\n",
        "              metrics=['acc'])"
      ],
      "metadata": {
        "id": "pSh_gHzrKZxV"
      },
      "execution_count": null,
      "outputs": []
    },
    {
      "cell_type": "code",
      "source": [
        "history=model.fit(train_images,train_labels,batch_size=16,epochs=20,validation_data=(validation_images,validation_labels))"
      ],
      "metadata": {
        "colab": {
          "base_uri": "https://localhost:8080/"
        },
        "id": "o-q8brHEKvDQ",
        "outputId": "3ea68cc2-03fa-467c-fde4-16f404812b3d"
      },
      "execution_count": null,
      "outputs": [
        {
          "output_type": "stream",
          "name": "stdout",
          "text": [
            "Epoch 1/20\n",
            "1802/1802 [==============================] - 48s 25ms/step - loss: 1.8265 - acc: 0.2546 - val_loss: 1.7442 - val_acc: 0.2903\n",
            "Epoch 2/20\n",
            "1802/1802 [==============================] - 37s 21ms/step - loss: 1.6466 - acc: 0.3537 - val_loss: 1.5249 - val_acc: 0.4028\n",
            "Epoch 3/20\n",
            "1802/1802 [==============================] - 40s 22ms/step - loss: 1.4552 - acc: 0.4377 - val_loss: 1.4273 - val_acc: 0.4577\n",
            "Epoch 4/20\n",
            "1802/1802 [==============================] - 40s 22ms/step - loss: 1.3478 - acc: 0.4845 - val_loss: 1.3728 - val_acc: 0.4812\n",
            "Epoch 5/20\n",
            "1802/1802 [==============================] - 42s 23ms/step - loss: 1.2754 - acc: 0.5140 - val_loss: 1.3035 - val_acc: 0.5067\n",
            "Epoch 6/20\n",
            "1802/1802 [==============================] - 37s 20ms/step - loss: 1.2779 - acc: 0.5120 - val_loss: 1.2939 - val_acc: 0.5164\n",
            "Epoch 7/20\n",
            "1802/1802 [==============================] - 37s 21ms/step - loss: 1.1751 - acc: 0.5554 - val_loss: 1.2772 - val_acc: 0.5267\n",
            "Epoch 8/20\n",
            "1802/1802 [==============================] - 37s 21ms/step - loss: 1.1293 - acc: 0.5743 - val_loss: 1.2782 - val_acc: 0.5294\n",
            "Epoch 9/20\n",
            "1802/1802 [==============================] - 37s 20ms/step - loss: 1.0728 - acc: 0.5991 - val_loss: 1.2897 - val_acc: 0.5245\n",
            "Epoch 10/20\n",
            "1802/1802 [==============================] - 39s 22ms/step - loss: 1.0218 - acc: 0.6170 - val_loss: 1.3699 - val_acc: 0.5154\n",
            "Epoch 11/20\n",
            "1802/1802 [==============================] - 39s 22ms/step - loss: 0.9669 - acc: 0.6378 - val_loss: 1.3651 - val_acc: 0.5163\n",
            "Epoch 12/20\n",
            "1802/1802 [==============================] - 37s 20ms/step - loss: 0.9281 - acc: 0.6543 - val_loss: 1.3801 - val_acc: 0.5242\n",
            "Epoch 13/20\n",
            "1802/1802 [==============================] - 37s 20ms/step - loss: 0.8815 - acc: 0.6729 - val_loss: 1.4684 - val_acc: 0.5178\n",
            "Epoch 14/20\n",
            "1802/1802 [==============================] - 39s 22ms/step - loss: 0.8267 - acc: 0.6927 - val_loss: 1.4899 - val_acc: 0.5232\n",
            "Epoch 15/20\n",
            "1802/1802 [==============================] - 37s 20ms/step - loss: 0.7823 - acc: 0.7083 - val_loss: 1.4982 - val_acc: 0.5157\n",
            "Epoch 16/20\n",
            "1802/1802 [==============================] - 37s 20ms/step - loss: 0.7409 - acc: 0.7271 - val_loss: 1.6047 - val_acc: 0.5127\n",
            "Epoch 17/20\n",
            "1802/1802 [==============================] - 40s 22ms/step - loss: 0.7050 - acc: 0.7406 - val_loss: 1.6258 - val_acc: 0.5064\n",
            "Epoch 18/20\n",
            "1802/1802 [==============================] - 37s 21ms/step - loss: 0.6653 - acc: 0.7554 - val_loss: 1.6696 - val_acc: 0.5252\n",
            "Epoch 19/20\n",
            "1802/1802 [==============================] - 37s 20ms/step - loss: 0.6405 - acc: 0.7639 - val_loss: 1.6734 - val_acc: 0.5129\n",
            "Epoch 20/20\n",
            "1802/1802 [==============================] - 37s 20ms/step - loss: 0.5856 - acc: 0.7845 - val_loss: 1.9109 - val_acc: 0.5159\n"
          ]
        }
      ]
    },
    {
      "cell_type": "code",
      "source": [
        "acc = history.history['acc']\n",
        "val_acc = history.history['val_acc']\n",
        "\n",
        "# Retrieve a list of list results on training and validation data\n",
        "# sets for each training epoch\n",
        "loss = history.history['loss']\n",
        "val_loss = history.history['val_loss']\n",
        "\n",
        "# Get number of epochs\n",
        "epochs = range(len(acc))\n",
        "\n",
        "# Plot training and validation accuracy per epoch\n",
        "plt.plot(epochs, acc)\n",
        "plt.plot(epochs, val_acc)\n",
        "plt.title('Training and validation accuracy')\n",
        "\n",
        "plt.figure()\n",
        "\n",
        "# Plot training and validation loss per epoch\n",
        "plt.plot(epochs, loss)\n",
        "plt.plot(epochs, val_loss)\n",
        "plt.title('Training and validation loss')"
      ],
      "metadata": {
        "colab": {
          "base_uri": "https://localhost:8080/",
          "height": 562
        },
        "id": "po0RSTmmKxM2",
        "outputId": "f4bd8f70-9147-4a5d-9e6a-29947b4fff17"
      },
      "execution_count": null,
      "outputs": [
        {
          "output_type": "execute_result",
          "data": {
            "text/plain": [
              "Text(0.5, 1.0, 'Training and validation loss')"
            ]
          },
          "metadata": {},
          "execution_count": 25
        },
        {
          "output_type": "display_data",
          "data": {
            "text/plain": [
              "<Figure size 432x288 with 1 Axes>"
            ],
            "image/png": "[encoded data removed]"
          },
          "metadata": {
            "needs_background": "light"
          }
        },
        {
          "output_type": "display_data",
          "data": {
            "text/plain": [
              "<Figure size 432x288 with 1 Axes>"
            ],
            "image/png": "[encoded data removed]"
          },
          "metadata": {
            "needs_background": "light"
          }
        }
      ]
    }
  ]
}